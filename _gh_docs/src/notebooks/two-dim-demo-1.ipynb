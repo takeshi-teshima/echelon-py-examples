{
 "cells": [
  {
   "cell_type": "markdown",
   "metadata": {},
   "source": [
    "# Two dimensional toy data (1)\n",
    "\n",
    "Example adopted from:\n",
    "\n",
    "* 栗原考次, & 石岡文生. (2021). エシェロン解析: 階層化して視る時空間データ. 共立出版."
   ]
  },
  {
   "cell_type": "code",
   "execution_count": 1,
   "metadata": {},
   "outputs": [
    {
     "data": {
      "text/plain": [
       "'1.0.0'"
      ]
     },
     "execution_count": 1,
     "metadata": {},
     "output_type": "execute_result"
    }
   ],
   "source": [
    "# %load_ext autoreload\n",
    "# %autoreload 2\n",
    "import echelon\n",
    "echelon.__version__"
   ]
  },
  {
   "cell_type": "code",
   "execution_count": 2,
   "metadata": {},
   "outputs": [],
   "source": [
    "from IPython.display import Markdown, display\n",
    "import numpy as np\n",
    "\n",
    "### Data\n",
    "data = np.array([\n",
    "    [2, 8, 24, 5, 3],\n",
    "    [1, 10, 14, 22, 15],\n",
    "    [4, 21, 19, 23, 25],\n",
    "    [16, 20, 12, 11, 17],\n",
    "    [13, 6, 9, 7, 18]\n",
    "])"
   ]
  },
  {
   "cell_type": "markdown",
   "metadata": {},
   "source": [
    "## Echelon construction"
   ]
  },
  {
   "cell_type": "code",
   "execution_count": 3,
   "metadata": {},
   "outputs": [
    {
     "name": "stderr",
     "output_type": "stream",
     "text": [
      "/Users/teshima/.pyenv/versions/anaconda3-5.3.1/lib/python3.7/site-packages/numpy/lib/function_base.py:4454: VisibleDeprecationWarning: Creating an ndarray from ragged nested sequences (which is a list-or-tuple of lists-or-tuples-or ndarrays with different lengths or shapes) is deprecated. If you meant to do this, you must specify 'dtype=object' when creating the ndarray.\n",
      "  arr = asarray(arr)\n",
      "/Users/teshima/.pyenv/versions/anaconda3-5.3.1/lib/python3.7/site-packages/scipy/sparse/compressed.py:746: SparseEfficiencyWarning: Changing the sparsity structure of a csr_matrix is expensive. lil_matrix is more efficient.\n",
      "  SparseEfficiencyWarning)\n"
     ]
    },
    {
     "data": {
      "text/plain": [
       "Result_EchelonAnalysis(peak_echelons=[[14, 13, 8], [2], [11, 16], [24]], foundation_echelons=[[12], [19, 15, 9], [7, 20, 17, 18, 6, 22, 1, 23, 21, 3, 10, 4, 0, 5]], hierarchy_tree=Node('/6'), oracle=<echelon.oracle.NdarrayEchelonOracle object at 0x7f8be8008240>)"
      ]
     },
     "execution_count": 3,
     "metadata": {},
     "output_type": "execute_result"
    }
   ],
   "source": [
    "from echelon.api import TwoDimEchelonAnalysis\n",
    "analyzer = TwoDimEchelonAnalysis()\n",
    "result = analyzer(data)\n",
    "result"
   ]
  },
  {
   "cell_type": "code",
   "execution_count": 4,
   "metadata": {
    "scrolled": false
   },
   "outputs": [
    {
     "data": {
      "text/markdown": [
       "### Peak Echelon 1"
      ],
      "text/plain": [
       "<IPython.core.display.Markdown object>"
      ]
     },
     "metadata": {},
     "output_type": "display_data"
    },
    {
     "name": "stdout",
     "output_type": "stream",
     "text": [
      "[[0 0 0 0 0]\n",
      " [0 0 0 1 0]\n",
      " [0 0 0 1 1]\n",
      " [0 0 0 0 0]\n",
      " [0 0 0 0 0]]\n"
     ]
    },
    {
     "data": {
      "text/markdown": [
       "### Peak Echelon 2"
      ],
      "text/plain": [
       "<IPython.core.display.Markdown object>"
      ]
     },
     "metadata": {},
     "output_type": "display_data"
    },
    {
     "name": "stdout",
     "output_type": "stream",
     "text": [
      "[[0 0 1 0 0]\n",
      " [0 0 0 0 0]\n",
      " [0 0 0 0 0]\n",
      " [0 0 0 0 0]\n",
      " [0 0 0 0 0]]\n"
     ]
    },
    {
     "data": {
      "text/markdown": [
       "### Peak Echelon 3"
      ],
      "text/plain": [
       "<IPython.core.display.Markdown object>"
      ]
     },
     "metadata": {},
     "output_type": "display_data"
    },
    {
     "name": "stdout",
     "output_type": "stream",
     "text": [
      "[[0 0 0 0 0]\n",
      " [0 0 0 0 0]\n",
      " [0 1 0 0 0]\n",
      " [0 1 0 0 0]\n",
      " [0 0 0 0 0]]\n"
     ]
    },
    {
     "data": {
      "text/markdown": [
       "### Peak Echelon 4"
      ],
      "text/plain": [
       "<IPython.core.display.Markdown object>"
      ]
     },
     "metadata": {},
     "output_type": "display_data"
    },
    {
     "name": "stdout",
     "output_type": "stream",
     "text": [
      "[[0 0 0 0 0]\n",
      " [0 0 0 0 0]\n",
      " [0 0 0 0 0]\n",
      " [0 0 0 0 0]\n",
      " [0 0 0 0 1]]\n"
     ]
    },
    {
     "data": {
      "text/markdown": [
       "### Foundation Echelon 1"
      ],
      "text/plain": [
       "<IPython.core.display.Markdown object>"
      ]
     },
     "metadata": {},
     "output_type": "display_data"
    },
    {
     "name": "stdout",
     "output_type": "stream",
     "text": [
      "[[0 0 0 0 0]\n",
      " [0 0 0 0 0]\n",
      " [0 0 1 0 0]\n",
      " [0 0 0 0 0]\n",
      " [0 0 0 0 0]]\n"
     ]
    },
    {
     "data": {
      "text/markdown": [
       "### Foundation Echelon 2"
      ],
      "text/plain": [
       "<IPython.core.display.Markdown object>"
      ]
     },
     "metadata": {},
     "output_type": "display_data"
    },
    {
     "name": "stdout",
     "output_type": "stream",
     "text": [
      "[[0 0 0 0 0]\n",
      " [0 0 0 0 1]\n",
      " [0 0 0 0 0]\n",
      " [1 0 0 0 1]\n",
      " [0 0 0 0 0]]\n"
     ]
    },
    {
     "data": {
      "text/markdown": [
       "### Foundation Echelon 3"
      ],
      "text/plain": [
       "<IPython.core.display.Markdown object>"
      ]
     },
     "metadata": {},
     "output_type": "display_data"
    },
    {
     "name": "stdout",
     "output_type": "stream",
     "text": [
      "[[1 1 0 1 1]\n",
      " [1 1 1 0 0]\n",
      " [1 0 0 0 0]\n",
      " [0 0 1 1 0]\n",
      " [1 1 1 1 0]]\n",
      "E7(7): [5, 0, 4, 10, 3, 21, 23, 1, 22, 6, 18, 17, 20, 7]\n",
      " (max: 14)\n",
      "\n",
      "├── E6(19): [9, 15, 19]\n",
      "│    (max: 17)\n",
      "│   \n",
      "│   ├── E5(12): [12]\n",
      "│   │    (max: 19)\n",
      "│   │   \n",
      "│   │   ├── E3(11): [16, 11]\n",
      "│   │   │    (max: 21)\n",
      "│   │   │   \n",
      "│   │   └── E1(14): [8, 13, 14]\n",
      "│   │        (max: 25)\n",
      "│   │       \n",
      "│   └── E4(24): [24]\n",
      "│        (max: 18)\n",
      "│       \n",
      "└── E2(2): [2]\n",
      "     (max: 24)\n",
      "    \n"
     ]
    }
   ],
   "source": [
    "def _echelon_indicator(echelon):\n",
    "    _W = np.zeros(data.shape, dtype='int8')\n",
    "    for ind in echelon:\n",
    "        _W[np.unravel_index(ind, shape=data.shape)] = 1\n",
    "    return _W\n",
    "\n",
    "for i, echelon in enumerate(result.peak_echelons):\n",
    "    display(Markdown(f'### Peak Echelon {i+1}'))\n",
    "    print(_echelon_indicator(echelon))\n",
    "\n",
    "for i, echelon in enumerate(result.foundation_echelons):\n",
    "    display(Markdown(f'### Foundation Echelon {i+1}'))\n",
    "    print(_echelon_indicator(echelon))\n",
    "    \n",
    "print(analyzer.dendrogram(result))"
   ]
  },
  {
   "cell_type": "markdown",
   "metadata": {},
   "source": [
    "## Echelon dendrogram"
   ]
  },
  {
   "cell_type": "code",
   "execution_count": 5,
   "metadata": {},
   "outputs": [
    {
     "name": "stdout",
     "output_type": "stream",
     "text": [
      "E7(7): [5, 0, 4, 10, 3, 21, 23, 1, 22, 6, 18, 17, 20, 7]\n",
      " (max: 14)\n",
      "\n",
      "├── E6(19): [9, 15, 19]\n",
      "│    (max: 17)\n",
      "│   \n",
      "│   ├── E5(12): [12]\n",
      "│   │    (max: 19)\n",
      "│   │   \n",
      "│   │   ├── E3(11): [16, 11]\n",
      "│   │   │    (max: 21)\n",
      "│   │   │   \n",
      "│   │   └── E1(14): [8, 13, 14]\n",
      "│   │        (max: 25)\n",
      "│   │       \n",
      "│   └── E4(24): [24]\n",
      "│        (max: 18)\n",
      "│       \n",
      "└── E2(2): [2]\n",
      "     (max: 24)\n",
      "    \n"
     ]
    }
   ],
   "source": [
    "print(analyzer.dendrogram(result))"
   ]
  },
  {
   "cell_type": "markdown",
   "metadata": {},
   "source": [
    "## Echelon clusters"
   ]
  },
  {
   "cell_type": "code",
   "execution_count": 6,
   "metadata": {},
   "outputs": [
    {
     "data": {
      "text/html": [
       "<div>\n",
       "<style scoped>\n",
       "    .dataframe tbody tr th:only-of-type {\n",
       "        vertical-align: middle;\n",
       "    }\n",
       "\n",
       "    .dataframe tbody tr th {\n",
       "        vertical-align: top;\n",
       "    }\n",
       "\n",
       "    .dataframe thead th {\n",
       "        text-align: right;\n",
       "    }\n",
       "</style>\n",
       "<table border=\"1\" class=\"dataframe\">\n",
       "  <thead>\n",
       "    <tr style=\"text-align: right;\">\n",
       "      <th></th>\n",
       "      <th>0</th>\n",
       "      <th>1</th>\n",
       "      <th>2</th>\n",
       "      <th>3</th>\n",
       "      <th>4</th>\n",
       "      <th>5</th>\n",
       "      <th>6</th>\n",
       "      <th>7</th>\n",
       "      <th>8</th>\n",
       "      <th>9</th>\n",
       "      <th>10</th>\n",
       "      <th>11</th>\n",
       "      <th>12</th>\n",
       "      <th>13</th>\n",
       "      <th>14</th>\n",
       "      <th>15</th>\n",
       "      <th>16</th>\n",
       "      <th>17</th>\n",
       "    </tr>\n",
       "    <tr>\n",
       "      <th>Zone</th>\n",
       "      <th></th>\n",
       "      <th></th>\n",
       "      <th></th>\n",
       "      <th></th>\n",
       "      <th></th>\n",
       "      <th></th>\n",
       "      <th></th>\n",
       "      <th></th>\n",
       "      <th></th>\n",
       "      <th></th>\n",
       "      <th></th>\n",
       "      <th></th>\n",
       "      <th></th>\n",
       "      <th></th>\n",
       "      <th></th>\n",
       "      <th></th>\n",
       "      <th></th>\n",
       "      <th></th>\n",
       "    </tr>\n",
       "  </thead>\n",
       "  <tbody>\n",
       "    <tr>\n",
       "      <th>14 Zone</th>\n",
       "      <td>14</td>\n",
       "      <td>13</td>\n",
       "      <td>8</td>\n",
       "      <td>12</td>\n",
       "      <td>19</td>\n",
       "      <td>9</td>\n",
       "      <td>7</td>\n",
       "      <td>17</td>\n",
       "      <td>18</td>\n",
       "      <td>6</td>\n",
       "      <td>22</td>\n",
       "      <td>1</td>\n",
       "      <td>23</td>\n",
       "      <td>21</td>\n",
       "      <td>3</td>\n",
       "      <td>4</td>\n",
       "      <td>0</td>\n",
       "      <td>5</td>\n",
       "    </tr>\n",
       "    <tr>\n",
       "      <th>2 Zone</th>\n",
       "      <td>2</td>\n",
       "      <td>7</td>\n",
       "      <td>6</td>\n",
       "      <td>1</td>\n",
       "      <td>3</td>\n",
       "      <td>4</td>\n",
       "      <td>0</td>\n",
       "      <td>5</td>\n",
       "      <td></td>\n",
       "      <td></td>\n",
       "      <td></td>\n",
       "      <td></td>\n",
       "      <td></td>\n",
       "      <td></td>\n",
       "      <td></td>\n",
       "      <td></td>\n",
       "      <td></td>\n",
       "      <td></td>\n",
       "    </tr>\n",
       "    <tr>\n",
       "      <th>11 Zone</th>\n",
       "      <td>11</td>\n",
       "      <td>16</td>\n",
       "      <td>12</td>\n",
       "      <td>15</td>\n",
       "      <td>7</td>\n",
       "      <td>20</td>\n",
       "      <td>17</td>\n",
       "      <td>18</td>\n",
       "      <td>6</td>\n",
       "      <td>22</td>\n",
       "      <td>1</td>\n",
       "      <td>23</td>\n",
       "      <td>21</td>\n",
       "      <td>10</td>\n",
       "      <td>0</td>\n",
       "      <td>5</td>\n",
       "      <td></td>\n",
       "      <td></td>\n",
       "    </tr>\n",
       "    <tr>\n",
       "      <th>24 Zone</th>\n",
       "      <td>24</td>\n",
       "      <td>19</td>\n",
       "      <td>18</td>\n",
       "      <td>23</td>\n",
       "      <td></td>\n",
       "      <td></td>\n",
       "      <td></td>\n",
       "      <td></td>\n",
       "      <td></td>\n",
       "      <td></td>\n",
       "      <td></td>\n",
       "      <td></td>\n",
       "      <td></td>\n",
       "      <td></td>\n",
       "      <td></td>\n",
       "      <td></td>\n",
       "      <td></td>\n",
       "      <td></td>\n",
       "    </tr>\n",
       "  </tbody>\n",
       "</table>\n",
       "</div>"
      ],
      "text/plain": [
       "         0   1   2   3   4   5   6   7   8   9   10  11  12  13 14 15 16 17\n",
       "Zone                                                                       \n",
       "14 Zone  14  13   8  12  19   9   7  17  18   6  22   1  23  21  3  4  0  5\n",
       "2 Zone    2   7   6   1   3   4   0   5                                    \n",
       "11 Zone  11  16  12  15   7  20  17  18   6  22   1  23  21  10  0  5      \n",
       "24 Zone  24  19  18  23                                                    "
      ]
     },
     "execution_count": 6,
     "metadata": {},
     "output_type": "execute_result"
    }
   ],
   "source": [
    "import pandas as pd\n",
    "pd.options.display.max_columns = None # Do not omit columns\n",
    "\n",
    "_df = analyzer.cluster(result)\n",
    "_df['representatives'] = _df['representatives'].map(lambda x: str(x[0]) + ' Zone')\n",
    "pd.DataFrame(_df['indices'].to_list()).fillna('').set_index(_df['representatives'].rename('Zone'))"
   ]
  },
  {
   "cell_type": "markdown",
   "metadata": {},
   "source": [
    "## Hotspot detection"
   ]
  },
  {
   "cell_type": "code",
   "execution_count": 7,
   "metadata": {},
   "outputs": [
    {
     "data": {
      "text/markdown": [
       "### Poisson score"
      ],
      "text/plain": [
       "<IPython.core.display.Markdown object>"
      ]
     },
     "metadata": {},
     "output_type": "display_data"
    },
    {
     "data": {
      "text/html": [
       "<div>\n",
       "<style scoped>\n",
       "    .dataframe tbody tr th:only-of-type {\n",
       "        vertical-align: middle;\n",
       "    }\n",
       "\n",
       "    .dataframe tbody tr th {\n",
       "        vertical-align: top;\n",
       "    }\n",
       "\n",
       "    .dataframe thead th {\n",
       "        text-align: right;\n",
       "    }\n",
       "</style>\n",
       "<table border=\"1\" class=\"dataframe\">\n",
       "  <thead>\n",
       "    <tr style=\"text-align: right;\">\n",
       "      <th></th>\n",
       "      <th>spot</th>\n",
       "      <th>score</th>\n",
       "      <th>c(Z)</th>\n",
       "      <th>log_lambda</th>\n",
       "    </tr>\n",
       "  </thead>\n",
       "  <tbody>\n",
       "    <tr>\n",
       "      <th>8</th>\n",
       "      <td>[12, 11, 16, 14, 13, 8, 24, 19]</td>\n",
       "      <td>1.278939</td>\n",
       "      <td>165</td>\n",
       "      <td>1.278939</td>\n",
       "    </tr>\n",
       "    <tr>\n",
       "      <th>9</th>\n",
       "      <td>[12, 11, 16, 14, 13, 8, 24, 19, 15]</td>\n",
       "      <td>1.272521</td>\n",
       "      <td>181</td>\n",
       "      <td>1.272521</td>\n",
       "    </tr>\n",
       "    <tr>\n",
       "      <th>6</th>\n",
       "      <td>[11, 16, 14, 13, 8, 12]</td>\n",
       "      <td>1.258604</td>\n",
       "      <td>130</td>\n",
       "      <td>1.258604</td>\n",
       "    </tr>\n",
       "    <tr>\n",
       "      <th>10</th>\n",
       "      <td>[12, 11, 16, 14, 13, 8, 24, 19, 15, 9]</td>\n",
       "      <td>1.257298</td>\n",
       "      <td>196</td>\n",
       "      <td>1.257298</td>\n",
       "    </tr>\n",
       "    <tr>\n",
       "      <th>11</th>\n",
       "      <td>[19, 15, 9, 12, 11, 16, 14, 13, 8, 24, 2, 7]</td>\n",
       "      <td>1.171224</td>\n",
       "      <td>234</td>\n",
       "      <td>1.171224</td>\n",
       "    </tr>\n",
       "    <tr>\n",
       "      <th>2</th>\n",
       "      <td>[14, 13, 8]</td>\n",
       "      <td>1.082767</td>\n",
       "      <td>70</td>\n",
       "      <td>1.082767</td>\n",
       "    </tr>\n",
       "    <tr>\n",
       "      <th>1</th>\n",
       "      <td>[14, 13]</td>\n",
       "      <td>0.934978</td>\n",
       "      <td>48</td>\n",
       "      <td>0.934978</td>\n",
       "    </tr>\n",
       "    <tr>\n",
       "      <th>5</th>\n",
       "      <td>[11, 16]</td>\n",
       "      <td>0.868353</td>\n",
       "      <td>41</td>\n",
       "      <td>0.868353</td>\n",
       "    </tr>\n",
       "    <tr>\n",
       "      <th>0</th>\n",
       "      <td>[14]</td>\n",
       "      <td>0.647124</td>\n",
       "      <td>25</td>\n",
       "      <td>0.647124</td>\n",
       "    </tr>\n",
       "    <tr>\n",
       "      <th>3</th>\n",
       "      <td>[2]</td>\n",
       "      <td>0.628238</td>\n",
       "      <td>24</td>\n",
       "      <td>0.628238</td>\n",
       "    </tr>\n",
       "    <tr>\n",
       "      <th>4</th>\n",
       "      <td>[11]</td>\n",
       "      <td>0.565938</td>\n",
       "      <td>21</td>\n",
       "      <td>0.565938</td>\n",
       "    </tr>\n",
       "    <tr>\n",
       "      <th>7</th>\n",
       "      <td>[24]</td>\n",
       "      <td>0.493114</td>\n",
       "      <td>18</td>\n",
       "      <td>0.493114</td>\n",
       "    </tr>\n",
       "  </tbody>\n",
       "</table>\n",
       "</div>"
      ],
      "text/plain": [
       "                                            spot     score  c(Z)  log_lambda\n",
       "8                [12, 11, 16, 14, 13, 8, 24, 19]  1.278939   165    1.278939\n",
       "9            [12, 11, 16, 14, 13, 8, 24, 19, 15]  1.272521   181    1.272521\n",
       "6                        [11, 16, 14, 13, 8, 12]  1.258604   130    1.258604\n",
       "10        [12, 11, 16, 14, 13, 8, 24, 19, 15, 9]  1.257298   196    1.257298\n",
       "11  [19, 15, 9, 12, 11, 16, 14, 13, 8, 24, 2, 7]  1.171224   234    1.171224\n",
       "2                                    [14, 13, 8]  1.082767    70    1.082767\n",
       "1                                       [14, 13]  0.934978    48    0.934978\n",
       "5                                       [11, 16]  0.868353    41    0.868353\n",
       "0                                           [14]  0.647124    25    0.647124\n",
       "3                                            [2]  0.628238    24    0.628238\n",
       "4                                           [11]  0.565938    21    0.565938\n",
       "7                                           [24]  0.493114    18    0.493114"
      ]
     },
     "metadata": {},
     "output_type": "display_data"
    }
   ],
   "source": [
    "from IPython.display import Markdown, display\n",
    "display(Markdown('### Poisson score'))\n",
    "display(analyzer.hotspots(result))"
   ]
  }
 ],
 "metadata": {
  "kernelspec": {
   "display_name": "Python 3",
   "language": "python",
   "name": "python3"
  },
  "language_info": {
   "codemirror_mode": {
    "name": "ipython",
    "version": 3
   },
   "file_extension": ".py",
   "mimetype": "text/x-python",
   "name": "python",
   "nbconvert_exporter": "python",
   "pygments_lexer": "ipython3",
   "version": "3.7.0"
  }
 },
 "nbformat": 4,
 "nbformat_minor": 2
}
