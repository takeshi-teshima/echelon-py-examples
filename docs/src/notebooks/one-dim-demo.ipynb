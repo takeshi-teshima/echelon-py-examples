{
 "cells": [
  {
   "cell_type": "markdown",
   "metadata": {},
   "source": [
    "# One dimensional toy data"
   ]
  },
  {
   "cell_type": "markdown",
   "metadata": {},
   "source": [
    "Example adopted from\n",
    "\n",
    "* Kurihara K. (2004). Classification of geospatial lattice data and their graphical representation. Classification, Clustering, and Data Mining Applications, (Edited by D.Banks et al.) Springer, 251–258."
   ]
  },
  {
   "cell_type": "code",
   "execution_count": 1,
   "metadata": {},
   "outputs": [],
   "source": [
    "# %load_ext autoreload\n",
    "# %autoreload 2\n",
    "# %matplotlib inline\n",
    "import warnings\n",
    "warnings.filterwarnings('ignore')"
   ]
  },
  {
   "cell_type": "code",
   "execution_count": 2,
   "metadata": {},
   "outputs": [
    {
     "data": {
      "text/plain": [
       "'1.0.3'"
      ]
     },
     "execution_count": 2,
     "metadata": {},
     "output_type": "execute_result"
    }
   ],
   "source": [
    "import echelon\n",
    "echelon.__version__"
   ]
  },
  {
   "cell_type": "code",
   "execution_count": 3,
   "metadata": {},
   "outputs": [],
   "source": [
    "import numpy as np\n",
    "\n",
    "### Data\n",
    "h = np.array([1, 2, 3, 4, 3, 4, 5, 4, 3, 2, 3, 4, 5, 6, 5, 6, 7, 6, 5, 4, 3, 2, 1, 2, 1])"
   ]
  },
  {
   "cell_type": "markdown",
   "metadata": {},
   "source": [
    "## Echelon construction"
   ]
  },
  {
   "cell_type": "code",
   "execution_count": 4,
   "metadata": {
    "scrolled": true
   },
   "outputs": [
    {
     "data": {
      "text/plain": [
       "Result_EchelonAnalysis(peak_echelons=[[16, 17, 15], [13], [6, 5, 7], [3], [23]], foundation_echelons=[[12, 14, 18, 19, 11, 10, 20], [2, 4, 8], [1, 9, 21], [0, 22, 24]], hierarchy_tree=Node('/8'), oracle=<echelon.oracle.NdarrayEchelonOracle object at 0x7f823011a588>)"
      ]
     },
     "execution_count": 4,
     "metadata": {},
     "output_type": "execute_result"
    }
   ],
   "source": [
    "from echelon.api import OneDimEchelonAnalysis\n",
    "analyzer = OneDimEchelonAnalysis()\n",
    "result = analyzer(h)\n",
    "result"
   ]
  },
  {
   "cell_type": "code",
   "execution_count": 5,
   "metadata": {
    "scrolled": true
   },
   "outputs": [
    {
     "name": "stdout",
     "output_type": "stream",
     "text": [
      "Peak Echelon 1\n",
      "[0 0 0 0 0 0 0 0 0 0 0 0 0 0 0 1 1 1 0 0 0 0 0 0 0]\n",
      "Peak Echelon 2\n",
      "[0 0 0 0 0 0 0 0 0 0 0 0 0 1 0 0 0 0 0 0 0 0 0 0 0]\n",
      "Peak Echelon 3\n",
      "[0 0 0 0 0 1 1 1 0 0 0 0 0 0 0 0 0 0 0 0 0 0 0 0 0]\n",
      "Peak Echelon 4\n",
      "[0 0 0 1 0 0 0 0 0 0 0 0 0 0 0 0 0 0 0 0 0 0 0 0 0]\n",
      "Peak Echelon 5\n",
      "[0 0 0 0 0 0 0 0 0 0 0 0 0 0 0 0 0 0 0 0 0 0 0 1 0]\n",
      "Foundation Echelon 1\n",
      "[0 0 0 0 0 0 0 0 0 0 1 1 1 0 1 0 0 0 1 1 1 0 0 0 0]\n",
      "Foundation Echelon 2\n",
      "[0 0 1 0 1 0 0 0 1 0 0 0 0 0 0 0 0 0 0 0 0 0 0 0 0]\n",
      "Foundation Echelon 3\n",
      "[0 1 0 0 0 0 0 0 0 1 0 0 0 0 0 0 0 0 0 0 0 1 0 0 0]\n",
      "Foundation Echelon 4\n",
      "[1 0 0 0 0 0 0 0 0 0 0 0 0 0 0 0 0 0 0 0 0 0 1 0 1]\n"
     ]
    }
   ],
   "source": [
    "def _echelon_indicator(echelon):\n",
    "    A = np.zeros(h.shape, dtype='int8')\n",
    "    for e in echelon:\n",
    "        A[e] = 1\n",
    "    return A\n",
    "\n",
    "for i, echelon in enumerate(result.peak_echelons):\n",
    "    print(f'Peak Echelon {i+1}')\n",
    "    print(_echelon_indicator(echelon))\n",
    "\n",
    "for i, echelon in enumerate(result.foundation_echelons):\n",
    "    print(f'Foundation Echelon {i+1}')\n",
    "    print(_echelon_indicator(echelon))\n"
   ]
  },
  {
   "cell_type": "markdown",
   "metadata": {},
   "source": [
    "## Echelon dendrogram"
   ]
  },
  {
   "cell_type": "markdown",
   "metadata": {},
   "source": [
    "### Draw with numerical indices"
   ]
  },
  {
   "cell_type": "code",
   "execution_count": 6,
   "metadata": {},
   "outputs": [
    {
     "name": "stdout",
     "output_type": "stream",
     "text": [
      "E9(0,22,24): [24, 22, 0]\n",
      " (max: 1)\n",
      "\n",
      "├── E8(1,9,21): [21, 9, 1]\n",
      "│    (max: 2)\n",
      "│   \n",
      "│   ├── E7(2,4,8): [8, 4, 2]\n",
      "│   │    (max: 3)\n",
      "│   │   \n",
      "│   │   ├── E4(3): [3]\n",
      "│   │   │    (max: 4)\n",
      "│   │   │   \n",
      "│   │   └── E3(6): [7, 5, 6]\n",
      "│   │        (max: 5)\n",
      "│   │       \n",
      "│   └── E6(12,14,18): [20, 10, 11, 19, 18, 14, 12]\n",
      "│        (max: 5)\n",
      "│       \n",
      "│       ├── E2(13): [13]\n",
      "│       │    (max: 6)\n",
      "│       │   \n",
      "│       └── E1(16): [15, 17, 16]\n",
      "│            (max: 7)\n",
      "│           \n",
      "└── E5(23): [23]\n",
      "     (max: 2)\n",
      "    \n"
     ]
    }
   ],
   "source": [
    "print(analyzer.dendrogram(result))"
   ]
  },
  {
   "cell_type": "markdown",
   "metadata": {},
   "source": [
    "### Draw with alphabetical labels (using custom string builder)"
   ]
  },
  {
   "cell_type": "code",
   "execution_count": 7,
   "metadata": {},
   "outputs": [
    {
     "name": "stdout",
     "output_type": "stream",
     "text": [
      "E9(A,W,Y): [Y, W, A]\n",
      " (max: 1)\n",
      "\n",
      "├── E8(B,J,V): [V, J, B]\n",
      "│    (max: 2)\n",
      "│   \n",
      "│   ├── E7(C,E,I): [I, E, C]\n",
      "│   │    (max: 3)\n",
      "│   │   \n",
      "│   │   ├── E4(D): [D]\n",
      "│   │   │    (max: 4)\n",
      "│   │   │   \n",
      "│   │   └── E3(G): [H, F, G]\n",
      "│   │        (max: 5)\n",
      "│   │       \n",
      "│   └── E6(M,O,S): [U, K, L, T, S, O, M]\n",
      "│        (max: 5)\n",
      "│       \n",
      "│       ├── E2(N): [N]\n",
      "│       │    (max: 6)\n",
      "│       │   \n",
      "│       └── E1(Q): [P, R, Q]\n",
      "│            (max: 7)\n",
      "│           \n",
      "└── E5(X): [X]\n",
      "     (max: 2)\n",
      "    \n"
     ]
    }
   ],
   "source": [
    "import string\n",
    "\n",
    "def _echelon_to_str(echelon_id, _echelon, _max_idx, value, plot_config_dict):\n",
    "    text = ''\n",
    "    _max_items = \",\".join([string.ascii_uppercase[i] for i in _max_idx])\n",
    "    _echelon_items = ', '.join(map(lambda i: string.ascii_uppercase[i], reversed(_echelon)))\n",
    "    return f'E{echelon_id+1}({_max_items}): [{_echelon_items}]\\n (max: {value})\\n'\n",
    "\n",
    "print(analyzer.dendrogram(result, plot_config_dict={\n",
    "    '_echelon_to_str': _echelon_to_str\n",
    "}))"
   ]
  },
  {
   "cell_type": "markdown",
   "metadata": {},
   "source": [
    "## Echelon clusters"
   ]
  },
  {
   "cell_type": "code",
   "execution_count": 8,
   "metadata": {},
   "outputs": [
    {
     "data": {
      "text/html": [
       "<div>\n",
       "<style scoped>\n",
       "    .dataframe tbody tr th:only-of-type {\n",
       "        vertical-align: middle;\n",
       "    }\n",
       "\n",
       "    .dataframe tbody tr th {\n",
       "        vertical-align: top;\n",
       "    }\n",
       "\n",
       "    .dataframe thead th {\n",
       "        text-align: right;\n",
       "    }\n",
       "</style>\n",
       "<table border=\"1\" class=\"dataframe\">\n",
       "  <thead>\n",
       "    <tr style=\"text-align: right;\">\n",
       "      <th></th>\n",
       "      <th>0</th>\n",
       "      <th>1</th>\n",
       "      <th>2</th>\n",
       "      <th>3</th>\n",
       "      <th>4</th>\n",
       "      <th>5</th>\n",
       "      <th>6</th>\n",
       "      <th>7</th>\n",
       "      <th>8</th>\n",
       "    </tr>\n",
       "    <tr>\n",
       "      <th>Zone</th>\n",
       "      <th></th>\n",
       "      <th></th>\n",
       "      <th></th>\n",
       "      <th></th>\n",
       "      <th></th>\n",
       "      <th></th>\n",
       "      <th></th>\n",
       "      <th></th>\n",
       "      <th></th>\n",
       "    </tr>\n",
       "  </thead>\n",
       "  <tbody>\n",
       "    <tr>\n",
       "      <th>16 Zone</th>\n",
       "      <td>16</td>\n",
       "      <td>17</td>\n",
       "      <td>15</td>\n",
       "      <td>14</td>\n",
       "      <td>18</td>\n",
       "      <td>19</td>\n",
       "      <td>20</td>\n",
       "      <td>21</td>\n",
       "      <td>22</td>\n",
       "    </tr>\n",
       "    <tr>\n",
       "      <th>13 Zone</th>\n",
       "      <td>13</td>\n",
       "      <td>12</td>\n",
       "      <td>14</td>\n",
       "      <td>11</td>\n",
       "      <td>10</td>\n",
       "      <td>9</td>\n",
       "      <td></td>\n",
       "      <td></td>\n",
       "      <td></td>\n",
       "    </tr>\n",
       "    <tr>\n",
       "      <th>6 Zone</th>\n",
       "      <td>6</td>\n",
       "      <td>5</td>\n",
       "      <td>7</td>\n",
       "      <td>4</td>\n",
       "      <td>8</td>\n",
       "      <td>9</td>\n",
       "      <td></td>\n",
       "      <td></td>\n",
       "      <td></td>\n",
       "    </tr>\n",
       "    <tr>\n",
       "      <th>3 Zone</th>\n",
       "      <td>3</td>\n",
       "      <td>2</td>\n",
       "      <td>4</td>\n",
       "      <td>1</td>\n",
       "      <td>0</td>\n",
       "      <td></td>\n",
       "      <td></td>\n",
       "      <td></td>\n",
       "      <td></td>\n",
       "    </tr>\n",
       "    <tr>\n",
       "      <th>23 Zone</th>\n",
       "      <td>23</td>\n",
       "      <td>22</td>\n",
       "      <td>24</td>\n",
       "      <td></td>\n",
       "      <td></td>\n",
       "      <td></td>\n",
       "      <td></td>\n",
       "      <td></td>\n",
       "      <td></td>\n",
       "    </tr>\n",
       "  </tbody>\n",
       "</table>\n",
       "</div>"
      ],
      "text/plain": [
       "          0   1   2   3   4   5   6   7   8\n",
       "Zone                                       \n",
       "16 Zone  16  17  15  14  18  19  20  21  22\n",
       "13 Zone  13  12  14  11  10   9            \n",
       "6 Zone    6   5   7   4   8   9            \n",
       "3 Zone    3   2   4   1   0                \n",
       "23 Zone  23  22  24                        "
      ]
     },
     "execution_count": 8,
     "metadata": {},
     "output_type": "execute_result"
    }
   ],
   "source": [
    "import pandas as pd\n",
    "pd.options.display.max_columns = None # Do not omit columns\n",
    "\n",
    "_df = analyzer.cluster(result)\n",
    "_df['representatives'] = _df['representatives'].map(lambda x: str(x[0]) + ' Zone')\n",
    "pd.DataFrame(_df['indices'].to_list()).fillna('').set_index(_df['representatives'].rename('Zone'))"
   ]
  },
  {
   "cell_type": "markdown",
   "metadata": {},
   "source": [
    "## Hotspot detection"
   ]
  },
  {
   "cell_type": "code",
   "execution_count": 9,
   "metadata": {
    "scrolled": false
   },
   "outputs": [
    {
     "data": {
      "text/html": [
       "<div>\n",
       "<style scoped>\n",
       "    .dataframe tbody tr th:only-of-type {\n",
       "        vertical-align: middle;\n",
       "    }\n",
       "\n",
       "    .dataframe tbody tr th {\n",
       "        vertical-align: top;\n",
       "    }\n",
       "\n",
       "    .dataframe thead th {\n",
       "        text-align: right;\n",
       "    }\n",
       "</style>\n",
       "<table border=\"1\" class=\"dataframe\">\n",
       "  <thead>\n",
       "    <tr style=\"text-align: right;\">\n",
       "      <th></th>\n",
       "      <th>spot</th>\n",
       "      <th>score</th>\n",
       "      <th>c(Z)</th>\n",
       "      <th>log_lambda</th>\n",
       "    </tr>\n",
       "  </thead>\n",
       "  <tbody>\n",
       "    <tr>\n",
       "      <th>7</th>\n",
       "      <td>[13, 16, 17, 15, 12, 14, 18, 19]</td>\n",
       "      <td>0.640049</td>\n",
       "      <td>44</td>\n",
       "      <td>0.640049</td>\n",
       "    </tr>\n",
       "    <tr>\n",
       "      <th>8</th>\n",
       "      <td>[13, 16, 17, 15, 12, 14, 18, 19, 11]</td>\n",
       "      <td>0.639074</td>\n",
       "      <td>48</td>\n",
       "      <td>0.639074</td>\n",
       "    </tr>\n",
       "    <tr>\n",
       "      <th>9</th>\n",
       "      <td>[13, 16, 17, 15, 12, 14, 18, 19, 11, 10]</td>\n",
       "      <td>0.633183</td>\n",
       "      <td>51</td>\n",
       "      <td>0.633183</td>\n",
       "    </tr>\n",
       "    <tr>\n",
       "      <th>6</th>\n",
       "      <td>[13, 16, 17, 15, 12, 14, 18]</td>\n",
       "      <td>0.633183</td>\n",
       "      <td>40</td>\n",
       "      <td>0.633183</td>\n",
       "    </tr>\n",
       "    <tr>\n",
       "      <th>10</th>\n",
       "      <td>[13, 16, 17, 15, 12, 14, 18, 19, 11, 10, 20]</td>\n",
       "      <td>0.622703</td>\n",
       "      <td>54</td>\n",
       "      <td>0.622703</td>\n",
       "    </tr>\n",
       "    <tr>\n",
       "      <th>5</th>\n",
       "      <td>[13, 16, 17, 15, 12, 14]</td>\n",
       "      <td>0.613028</td>\n",
       "      <td>35</td>\n",
       "      <td>0.613028</td>\n",
       "    </tr>\n",
       "    <tr>\n",
       "      <th>4</th>\n",
       "      <td>[13, 16, 17, 15, 12]</td>\n",
       "      <td>0.578439</td>\n",
       "      <td>30</td>\n",
       "      <td>0.578439</td>\n",
       "    </tr>\n",
       "    <tr>\n",
       "      <th>17</th>\n",
       "      <td>[3, 6, 5, 7, 2, 4, 8]</td>\n",
       "      <td>0.538302</td>\n",
       "      <td>26</td>\n",
       "      <td>0.538302</td>\n",
       "    </tr>\n",
       "    <tr>\n",
       "      <th>16</th>\n",
       "      <td>[3, 6, 5, 7, 2, 4]</td>\n",
       "      <td>0.499200</td>\n",
       "      <td>23</td>\n",
       "      <td>0.499200</td>\n",
       "    </tr>\n",
       "    <tr>\n",
       "      <th>15</th>\n",
       "      <td>[3, 6, 5, 7, 2]</td>\n",
       "      <td>0.450414</td>\n",
       "      <td>20</td>\n",
       "      <td>0.450414</td>\n",
       "    </tr>\n",
       "    <tr>\n",
       "      <th>2</th>\n",
       "      <td>[16, 17, 15]</td>\n",
       "      <td>0.431557</td>\n",
       "      <td>19</td>\n",
       "      <td>0.431557</td>\n",
       "    </tr>\n",
       "    <tr>\n",
       "      <th>1</th>\n",
       "      <td>[16, 17]</td>\n",
       "      <td>0.279899</td>\n",
       "      <td>13</td>\n",
       "      <td>0.279899</td>\n",
       "    </tr>\n",
       "    <tr>\n",
       "      <th>13</th>\n",
       "      <td>[6, 5, 7]</td>\n",
       "      <td>0.279899</td>\n",
       "      <td>13</td>\n",
       "      <td>0.279899</td>\n",
       "    </tr>\n",
       "    <tr>\n",
       "      <th>12</th>\n",
       "      <td>[6, 5]</td>\n",
       "      <td>0.118248</td>\n",
       "      <td>9</td>\n",
       "      <td>0.118248</td>\n",
       "    </tr>\n",
       "    <tr>\n",
       "      <th>0</th>\n",
       "      <td>[16]</td>\n",
       "      <td>0.002022</td>\n",
       "      <td>7</td>\n",
       "      <td>0.002022</td>\n",
       "    </tr>\n",
       "    <tr>\n",
       "      <th>18</th>\n",
       "      <td>[23]</td>\n",
       "      <td>-0.000000</td>\n",
       "      <td>2</td>\n",
       "      <td>-0.000000</td>\n",
       "    </tr>\n",
       "    <tr>\n",
       "      <th>3</th>\n",
       "      <td>[13]</td>\n",
       "      <td>-0.071104</td>\n",
       "      <td>6</td>\n",
       "      <td>-0.071104</td>\n",
       "    </tr>\n",
       "    <tr>\n",
       "      <th>11</th>\n",
       "      <td>[6]</td>\n",
       "      <td>-0.159174</td>\n",
       "      <td>5</td>\n",
       "      <td>-0.159174</td>\n",
       "    </tr>\n",
       "    <tr>\n",
       "      <th>14</th>\n",
       "      <td>[3]</td>\n",
       "      <td>-0.269100</td>\n",
       "      <td>4</td>\n",
       "      <td>-0.269100</td>\n",
       "    </tr>\n",
       "  </tbody>\n",
       "</table>\n",
       "</div>"
      ],
      "text/plain": [
       "                                            spot     score  c(Z)  log_lambda\n",
       "7               [13, 16, 17, 15, 12, 14, 18, 19]  0.640049    44    0.640049\n",
       "8           [13, 16, 17, 15, 12, 14, 18, 19, 11]  0.639074    48    0.639074\n",
       "9       [13, 16, 17, 15, 12, 14, 18, 19, 11, 10]  0.633183    51    0.633183\n",
       "6                   [13, 16, 17, 15, 12, 14, 18]  0.633183    40    0.633183\n",
       "10  [13, 16, 17, 15, 12, 14, 18, 19, 11, 10, 20]  0.622703    54    0.622703\n",
       "5                       [13, 16, 17, 15, 12, 14]  0.613028    35    0.613028\n",
       "4                           [13, 16, 17, 15, 12]  0.578439    30    0.578439\n",
       "17                         [3, 6, 5, 7, 2, 4, 8]  0.538302    26    0.538302\n",
       "16                            [3, 6, 5, 7, 2, 4]  0.499200    23    0.499200\n",
       "15                               [3, 6, 5, 7, 2]  0.450414    20    0.450414\n",
       "2                                   [16, 17, 15]  0.431557    19    0.431557\n",
       "1                                       [16, 17]  0.279899    13    0.279899\n",
       "13                                     [6, 5, 7]  0.279899    13    0.279899\n",
       "12                                        [6, 5]  0.118248     9    0.118248\n",
       "0                                           [16]  0.002022     7    0.002022\n",
       "18                                          [23] -0.000000     2   -0.000000\n",
       "3                                           [13] -0.071104     6   -0.071104\n",
       "11                                           [6] -0.159174     5   -0.159174\n",
       "14                                           [3] -0.269100     4   -0.269100"
      ]
     },
     "execution_count": 9,
     "metadata": {},
     "output_type": "execute_result"
    }
   ],
   "source": [
    "analyzer.hotspots(result)"
   ]
  }
 ],
 "metadata": {
  "kernelspec": {
   "display_name": "Python 3",
   "language": "python",
   "name": "python3"
  },
  "language_info": {
   "codemirror_mode": {
    "name": "ipython",
    "version": 3
   },
   "file_extension": ".py",
   "mimetype": "text/x-python",
   "name": "python",
   "nbconvert_exporter": "python",
   "pygments_lexer": "ipython3",
   "version": "3.7.0"
  }
 },
 "nbformat": 4,
 "nbformat_minor": 2
}
