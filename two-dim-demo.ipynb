{
 "cells": [
  {
   "cell_type": "markdown",
   "metadata": {},
   "source": [
    "# Two dimensional toy data"
   ]
  },
  {
   "cell_type": "markdown",
   "metadata": {},
   "source": [
    "## Two-dim demo 2"
   ]
  },
  {
   "cell_type": "code",
   "execution_count": 9,
   "metadata": {},
   "outputs": [],
   "source": [
    "# %load_ext autoreload\n",
    "# %autoreload 2\n",
    "\n",
    "from IPython.display import Markdown, display\n",
    "import numpy as np\n",
    "\n",
    "### Data\n",
    "data = np.array([\n",
    "    [2, 8, 24, 5, 3],\n",
    "    [1, 10, 14, 22, 15],\n",
    "    [4, 21, 19, 23, 25],\n",
    "    [16, 20, 12, 11, 17],\n",
    "    [13, 6, 9, 7, 18]\n",
    "])"
   ]
  },
  {
   "cell_type": "code",
   "execution_count": 10,
   "metadata": {},
   "outputs": [
    {
     "name": "stderr",
     "output_type": "stream",
     "text": [
      "/Users/teshima/.pyenv/versions/anaconda3-5.3.1/lib/python3.7/site-packages/numpy/lib/function_base.py:4454: VisibleDeprecationWarning: Creating an ndarray from ragged nested sequences (which is a list-or-tuple of lists-or-tuples-or ndarrays with different lengths or shapes) is deprecated. If you meant to do this, you must specify 'dtype=object' when creating the ndarray.\n",
      "  arr = asarray(arr)\n"
     ]
    },
    {
     "data": {
      "text/plain": [
       "Result_EchelonAnalysis(peak_echelons=[[14, 13, 8], [2], [11, 16], [24]], foundation_echelons=[[12], [19, 15, 9], [7, 20, 17, 18, 6, 22, 1, 23, 21, 3, 10, 4, 0, 5]], oracle=<echelon.oracle.NdarrayEchelonOracle object at 0x7f845a25bd30>)"
      ]
     },
     "execution_count": 10,
     "metadata": {},
     "output_type": "execute_result"
    }
   ],
   "source": [
    "from echelon.api import TwoDimEchelonAnalysis\n",
    "analyzer = TwoDimEchelonAnalysis()\n",
    "result = analyzer(data)\n",
    "result"
   ]
  },
  {
   "cell_type": "code",
   "execution_count": 3,
   "metadata": {
    "scrolled": false
   },
   "outputs": [
    {
     "data": {
      "text/markdown": [
       "### Peak Echelon 1"
      ],
      "text/plain": [
       "<IPython.core.display.Markdown object>"
      ]
     },
     "metadata": {},
     "output_type": "display_data"
    },
    {
     "name": "stdout",
     "output_type": "stream",
     "text": [
      "[[0 0 0 0 0]\n",
      " [0 0 0 1 0]\n",
      " [0 0 0 1 1]\n",
      " [0 0 0 0 0]\n",
      " [0 0 0 0 0]]\n"
     ]
    },
    {
     "data": {
      "text/markdown": [
       "### Peak Echelon 2"
      ],
      "text/plain": [
       "<IPython.core.display.Markdown object>"
      ]
     },
     "metadata": {},
     "output_type": "display_data"
    },
    {
     "name": "stdout",
     "output_type": "stream",
     "text": [
      "[[0 0 1 0 0]\n",
      " [0 0 0 0 0]\n",
      " [0 0 0 0 0]\n",
      " [0 0 0 0 0]\n",
      " [0 0 0 0 0]]\n"
     ]
    },
    {
     "data": {
      "text/markdown": [
       "### Peak Echelon 3"
      ],
      "text/plain": [
       "<IPython.core.display.Markdown object>"
      ]
     },
     "metadata": {},
     "output_type": "display_data"
    },
    {
     "name": "stdout",
     "output_type": "stream",
     "text": [
      "[[0 0 0 0 0]\n",
      " [0 0 0 0 0]\n",
      " [0 1 0 0 0]\n",
      " [0 1 0 0 0]\n",
      " [0 0 0 0 0]]\n"
     ]
    },
    {
     "data": {
      "text/markdown": [
       "### Peak Echelon 4"
      ],
      "text/plain": [
       "<IPython.core.display.Markdown object>"
      ]
     },
     "metadata": {},
     "output_type": "display_data"
    },
    {
     "name": "stdout",
     "output_type": "stream",
     "text": [
      "[[0 0 0 0 0]\n",
      " [0 0 0 0 0]\n",
      " [0 0 0 0 0]\n",
      " [0 0 0 0 0]\n",
      " [0 0 0 0 1]]\n"
     ]
    },
    {
     "data": {
      "text/markdown": [
       "### Foundation Echelon 1"
      ],
      "text/plain": [
       "<IPython.core.display.Markdown object>"
      ]
     },
     "metadata": {},
     "output_type": "display_data"
    },
    {
     "name": "stdout",
     "output_type": "stream",
     "text": [
      "[[0 0 0 0 0]\n",
      " [0 0 0 0 0]\n",
      " [0 0 1 0 0]\n",
      " [0 0 0 0 0]\n",
      " [0 0 0 0 0]]\n"
     ]
    },
    {
     "data": {
      "text/markdown": [
       "### Foundation Echelon 2"
      ],
      "text/plain": [
       "<IPython.core.display.Markdown object>"
      ]
     },
     "metadata": {},
     "output_type": "display_data"
    },
    {
     "name": "stdout",
     "output_type": "stream",
     "text": [
      "[[0 0 0 0 0]\n",
      " [0 0 0 0 1]\n",
      " [0 0 0 0 0]\n",
      " [1 0 0 0 1]\n",
      " [0 0 0 0 0]]\n"
     ]
    },
    {
     "data": {
      "text/markdown": [
       "### Foundation Echelon 3"
      ],
      "text/plain": [
       "<IPython.core.display.Markdown object>"
      ]
     },
     "metadata": {},
     "output_type": "display_data"
    },
    {
     "name": "stdout",
     "output_type": "stream",
     "text": [
      "[[1 1 0 1 1]\n",
      " [1 1 1 0 0]\n",
      " [1 0 0 0 0]\n",
      " [0 0 1 1 0]\n",
      " [1 1 1 1 0]]\n"
     ]
    }
   ],
   "source": [
    "def _echelon_indicator(echelon):\n",
    "    _W = np.zeros(data.shape, dtype='int8')\n",
    "    for ind in echelon:\n",
    "        _W[np.unravel_index(ind, shape=data.shape)] = 1\n",
    "    return _W\n",
    "\n",
    "for i, echelon in enumerate(result.peak_echelons):\n",
    "    display(Markdown(f'### Peak Echelon {i+1}'))\n",
    "    print(_echelon_indicator(echelon))\n",
    "\n",
    "for i, echelon in enumerate(result.foundation_echelons):\n",
    "    display(Markdown(f'### Foundation Echelon {i+1}'))\n",
    "    print(_echelon_indicator(echelon))"
   ]
  },
  {
   "cell_type": "code",
   "execution_count": 4,
   "metadata": {},
   "outputs": [
    {
     "name": "stdout",
     "output_type": "stream",
     "text": [
      "[[7 7 2 7 7]\n",
      " [7 7 7 1 6]\n",
      " [7 3 5 1 1]\n",
      " [6 3 7 7 6]\n",
      " [7 7 7 7 4]]\n"
     ]
    }
   ],
   "source": [
    "from echelon.test import _visualize_echelons\n",
    "print(_visualize_echelons(data.shape, result.peak_echelons, result.foundation_echelons))"
   ]
  },
  {
   "cell_type": "markdown",
   "metadata": {},
   "source": [
    "## Two-dim demo 2\n",
    "Example adopted from\n",
    "* Kurihara K. (2004). Classification of geospatial lattice data and their graphical representation. Classification, Clustering, and Data Mining Applications, (Edited by D.Banks et al.) Springer, 251–258."
   ]
  },
  {
   "cell_type": "code",
   "execution_count": 5,
   "metadata": {},
   "outputs": [
    {
     "name": "stdout",
     "output_type": "stream",
     "text": [
      "[[7 2 7 6 7]\n",
      " [7 7 7 1 7]\n",
      " [7 7 5 1 1]\n",
      " [3 3 7 7 6]\n",
      " [6 7 7 4 7]]\n"
     ]
    },
    {
     "name": "stderr",
     "output_type": "stream",
     "text": [
      "/Users/teshima/.pyenv/versions/anaconda3-5.3.1/lib/python3.7/site-packages/numpy/lib/function_base.py:4454: VisibleDeprecationWarning: Creating an ndarray from ragged nested sequences (which is a list-or-tuple of lists-or-tuples-or ndarrays with different lengths or shapes) is deprecated. If you meant to do this, you must specify 'dtype=object' when creating the ndarray.\n",
      "  arr = asarray(arr)\n"
     ]
    }
   ],
   "source": [
    "import numpy as np\n",
    "from echelon.api import TwoDimEchelonAnalysis\n",
    "from echelon.test import _visualize_echelons\n",
    "\n",
    "data = np.array([\n",
    "    [10, 24, 10, 15, 10],\n",
    "    [10, 10, 14, 22, 10],\n",
    "    [10, 13, 19, 23, 25],\n",
    "    [20, 21, 12, 11, 17],\n",
    "    [16, 10, 10, 18, 10]\n",
    "])\n",
    "analyzer = TwoDimEchelonAnalysis(adjacency_type='8')\n",
    "result = analyzer(data)\n",
    "print(_visualize_echelons(data.shape, result.peak_echelons, result.foundation_echelons))"
   ]
  }
 ],
 "metadata": {
  "kernelspec": {
   "display_name": "Python 3",
   "language": "python",
   "name": "python3"
  },
  "language_info": {
   "codemirror_mode": {
    "name": "ipython",
    "version": 3
   },
   "file_extension": ".py",
   "mimetype": "text/x-python",
   "name": "python",
   "nbconvert_exporter": "python",
   "pygments_lexer": "ipython3",
   "version": "3.7.0"
  }
 },
 "nbformat": 4,
 "nbformat_minor": 2
}
