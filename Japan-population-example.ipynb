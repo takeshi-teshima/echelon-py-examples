{
 "cells": [
  {
   "cell_type": "markdown",
   "metadata": {},
   "source": [
    "# Japan Population Example"
   ]
  },
  {
   "cell_type": "code",
   "execution_count": 1,
   "metadata": {},
   "outputs": [
    {
     "data": {
      "text/html": [
       "<div>\n",
       "<style scoped>\n",
       "    .dataframe tbody tr th:only-of-type {\n",
       "        vertical-align: middle;\n",
       "    }\n",
       "\n",
       "    .dataframe tbody tr th {\n",
       "        vertical-align: top;\n",
       "    }\n",
       "\n",
       "    .dataframe thead th {\n",
       "        text-align: right;\n",
       "    }\n",
       "</style>\n",
       "<table border=\"1\" class=\"dataframe\">\n",
       "  <thead>\n",
       "    <tr style=\"text-align: right;\">\n",
       "      <th></th>\n",
       "      <th>id</th>\n",
       "      <th>name</th>\n",
       "      <th>population (10k)</th>\n",
       "      <th>adjacent</th>\n",
       "    </tr>\n",
       "  </thead>\n",
       "  <tbody>\n",
       "    <tr>\n",
       "      <th>0</th>\n",
       "      <td>1</td>\n",
       "      <td>福島</td>\n",
       "      <td>191</td>\n",
       "      <td>[茨城, 栃木, 群馬, 新潟]</td>\n",
       "    </tr>\n",
       "    <tr>\n",
       "      <th>1</th>\n",
       "      <td>2</td>\n",
       "      <td>茨城</td>\n",
       "      <td>292</td>\n",
       "      <td>[福島, 栃木, 埼玉, 千葉]</td>\n",
       "    </tr>\n",
       "    <tr>\n",
       "      <th>2</th>\n",
       "      <td>3</td>\n",
       "      <td>栃木</td>\n",
       "      <td>197</td>\n",
       "      <td>[福島, 茨城, 群馬, 埼玉]</td>\n",
       "    </tr>\n",
       "    <tr>\n",
       "      <th>3</th>\n",
       "      <td>4</td>\n",
       "      <td>群馬</td>\n",
       "      <td>197</td>\n",
       "      <td>[福島, 栃木, 埼玉, 新潟, 長野]</td>\n",
       "    </tr>\n",
       "    <tr>\n",
       "      <th>4</th>\n",
       "      <td>5</td>\n",
       "      <td>埼玉</td>\n",
       "      <td>727</td>\n",
       "      <td>[茨城, 栃木, 群馬, 千葉, 東京, 山梨, 長野]</td>\n",
       "    </tr>\n",
       "    <tr>\n",
       "      <th>5</th>\n",
       "      <td>6</td>\n",
       "      <td>千葉</td>\n",
       "      <td>622</td>\n",
       "      <td>[茨城, 埼玉, 東京]</td>\n",
       "    </tr>\n",
       "    <tr>\n",
       "      <th>6</th>\n",
       "      <td>7</td>\n",
       "      <td>東京</td>\n",
       "      <td>1352</td>\n",
       "      <td>[埼玉, 千葉, 神奈川, 山梨]</td>\n",
       "    </tr>\n",
       "    <tr>\n",
       "      <th>7</th>\n",
       "      <td>8</td>\n",
       "      <td>神奈川</td>\n",
       "      <td>913</td>\n",
       "      <td>[東京, 山梨, 静岡]</td>\n",
       "    </tr>\n",
       "    <tr>\n",
       "      <th>8</th>\n",
       "      <td>9</td>\n",
       "      <td>新潟</td>\n",
       "      <td>230</td>\n",
       "      <td>[福島, 群馬, 富山, 長野]</td>\n",
       "    </tr>\n",
       "    <tr>\n",
       "      <th>9</th>\n",
       "      <td>10</td>\n",
       "      <td>富山</td>\n",
       "      <td>107</td>\n",
       "      <td>[新潟, 長野, 岐阜]</td>\n",
       "    </tr>\n",
       "    <tr>\n",
       "      <th>10</th>\n",
       "      <td>11</td>\n",
       "      <td>山梨</td>\n",
       "      <td>84</td>\n",
       "      <td>[埼玉, 東京, 神奈川, 長野, 静岡]</td>\n",
       "    </tr>\n",
       "    <tr>\n",
       "      <th>11</th>\n",
       "      <td>12</td>\n",
       "      <td>長野</td>\n",
       "      <td>210</td>\n",
       "      <td>[群馬, 埼玉, 新潟, 富山, 山梨, 岐阜, 静岡, 愛知]</td>\n",
       "    </tr>\n",
       "    <tr>\n",
       "      <th>12</th>\n",
       "      <td>13</td>\n",
       "      <td>岐阜</td>\n",
       "      <td>203</td>\n",
       "      <td>[富山, 長野, 愛知]</td>\n",
       "    </tr>\n",
       "    <tr>\n",
       "      <th>13</th>\n",
       "      <td>14</td>\n",
       "      <td>静岡</td>\n",
       "      <td>370</td>\n",
       "      <td>[神奈川, 山梨, 長野, 愛知]</td>\n",
       "    </tr>\n",
       "    <tr>\n",
       "      <th>14</th>\n",
       "      <td>15</td>\n",
       "      <td>愛知</td>\n",
       "      <td>748</td>\n",
       "      <td>[長野, 岐阜, 静岡]</td>\n",
       "    </tr>\n",
       "  </tbody>\n",
       "</table>\n",
       "</div>"
      ],
      "text/plain": [
       "    id name  population (10k)                          adjacent\n",
       "0    1   福島               191                  [茨城, 栃木, 群馬, 新潟]\n",
       "1    2   茨城               292                  [福島, 栃木, 埼玉, 千葉]\n",
       "2    3   栃木               197                  [福島, 茨城, 群馬, 埼玉]\n",
       "3    4   群馬               197              [福島, 栃木, 埼玉, 新潟, 長野]\n",
       "4    5   埼玉               727      [茨城, 栃木, 群馬, 千葉, 東京, 山梨, 長野]\n",
       "5    6   千葉               622                      [茨城, 埼玉, 東京]\n",
       "6    7   東京              1352                 [埼玉, 千葉, 神奈川, 山梨]\n",
       "7    8  神奈川               913                      [東京, 山梨, 静岡]\n",
       "8    9   新潟               230                  [福島, 群馬, 富山, 長野]\n",
       "9   10   富山               107                      [新潟, 長野, 岐阜]\n",
       "10  11   山梨                84             [埼玉, 東京, 神奈川, 長野, 静岡]\n",
       "11  12   長野               210  [群馬, 埼玉, 新潟, 富山, 山梨, 岐阜, 静岡, 愛知]\n",
       "12  13   岐阜               203                      [富山, 長野, 愛知]\n",
       "13  14   静岡               370                 [神奈川, 山梨, 長野, 愛知]\n",
       "14  15   愛知               748                      [長野, 岐阜, 静岡]"
      ]
     },
     "execution_count": 1,
     "metadata": {},
     "output_type": "execute_result"
    }
   ],
   "source": [
    "# %load_ext autoreload\n",
    "# %autoreload 2\n",
    "from IPython.display import Markdown, display\n",
    "\n",
    "import numpy as np\n",
    "import pandas as pd\n",
    "\n",
    "df = pd.DataFrame([\n",
    "    (1, '福島', 191, ['茨城', '栃木', '群馬', '新潟']),\n",
    "    (2, '茨城', 292, ['福島', '栃木', '埼玉', '千葉']),\n",
    "    (3, '栃木', 197, ['福島', '茨城', '群馬', '埼玉']),\n",
    "    (4, '群馬', 197, ['福島', '栃木', '埼玉', '新潟', '長野']),\n",
    "    (5, '埼玉', 727, ['茨城', '栃木', '群馬', '千葉', '東京', '山梨', '長野']),\n",
    "    (6, '千葉', 622, ['茨城', '埼玉', '東京']),\n",
    "    (7, '東京', 1352, ['埼玉', '千葉', '神奈川', '山梨']),\n",
    "    (8, '神奈川', 913, ['東京', '山梨', '静岡']),\n",
    "    (9, '新潟', 230, ['福島', '群馬', '富山', '長野']),\n",
    "    (10, '富山', 107, ['新潟', '長野', '岐阜']),\n",
    "    (11, '山梨', 84, ['埼玉', '東京', '神奈川', '長野', '静岡']),\n",
    "    (12, '長野', 210, ['群馬', '埼玉', '新潟', '富山', '山梨', '岐阜', '静岡', '愛知']),\n",
    "    (13, '岐阜', 203, ['富山', '長野', '愛知']),\n",
    "    (14, '静岡', 370, ['神奈川', '山梨', '長野', '愛知']),\n",
    "    (15, '愛知', 748, ['長野', '岐阜', '静岡']),\n",
    "], columns=['id', 'name', 'population (10k)', 'adjacent'])\n",
    "df"
   ]
  },
  {
   "cell_type": "code",
   "execution_count": 2,
   "metadata": {},
   "outputs": [
    {
     "name": "stderr",
     "output_type": "stream",
     "text": [
      "/Users/teshima/.pyenv/versions/anaconda3-5.3.1/lib/python3.7/site-packages/numpy/lib/function_base.py:4454: VisibleDeprecationWarning: Creating an ndarray from ragged nested sequences (which is a list-or-tuple of lists-or-tuples-or ndarrays with different lengths or shapes) is deprecated. If you meant to do this, you must specify 'dtype=object' when creating the ndarray.\n",
      "  arr = asarray(arr)\n",
      "/Users/teshima/.pyenv/versions/anaconda3-5.3.1/lib/python3.7/site-packages/numpy/lib/function_base.py:4454: VisibleDeprecationWarning: Creating an ndarray from ragged nested sequences (which is a list-or-tuple of lists-or-tuples-or ndarrays with different lengths or shapes) is deprecated. If you meant to do this, you must specify 'dtype=object' when creating the ndarray.\n",
      "  arr = asarray(arr)\n",
      "/Users/teshima/.pyenv/versions/anaconda3-5.3.1/lib/python3.7/site-packages/scipy/sparse/compressed.py:746: SparseEfficiencyWarning: Changing the sparsity structure of a csr_matrix is expensive. lil_matrix is more efficient.\n",
      "  SparseEfficiencyWarning)\n"
     ]
    },
    {
     "data": {
      "text/plain": [
       "Result_EchelonAnalysis(peak_echelons=[['東京', '神奈川', '埼玉', '千葉'], ['愛知'], ['新潟']], foundation_echelons=[['静岡', '茨城'], ['長野', '岐阜', '栃木', '群馬', '福島', '富山', '山梨']], hierarchy_tree=Node('/4'), oracle=<echelon.oracle.DataFrameEchelonOracle object at 0x7f81c08c7278>)"
      ]
     },
     "execution_count": 2,
     "metadata": {},
     "output_type": "execute_result"
    }
   ],
   "source": [
    "from echelon.api import DataFrameEchelonAnalysis\n",
    "analyzer = DataFrameEchelonAnalysis()\n",
    "result = analyzer(df, 'population (10k)', 'name', 'adjacent')\n",
    "result"
   ]
  },
  {
   "cell_type": "code",
   "execution_count": 3,
   "metadata": {},
   "outputs": [
    {
     "data": {
      "text/markdown": [
       "### Peak Echelons"
      ],
      "text/plain": [
       "<IPython.core.display.Markdown object>"
      ]
     },
     "metadata": {},
     "output_type": "display_data"
    },
    {
     "data": {
      "text/html": [
       "<div>\n",
       "<style scoped>\n",
       "    .dataframe tbody tr th:only-of-type {\n",
       "        vertical-align: middle;\n",
       "    }\n",
       "\n",
       "    .dataframe tbody tr th {\n",
       "        vertical-align: top;\n",
       "    }\n",
       "\n",
       "    .dataframe thead th {\n",
       "        text-align: right;\n",
       "    }\n",
       "</style>\n",
       "<table border=\"1\" class=\"dataframe\">\n",
       "  <thead>\n",
       "    <tr style=\"text-align: right;\">\n",
       "      <th></th>\n",
       "      <th>0</th>\n",
       "      <th>1</th>\n",
       "      <th>2</th>\n",
       "      <th>3</th>\n",
       "    </tr>\n",
       "  </thead>\n",
       "  <tbody>\n",
       "    <tr>\n",
       "      <th>0</th>\n",
       "      <td>東京</td>\n",
       "      <td>神奈川</td>\n",
       "      <td>埼玉</td>\n",
       "      <td>千葉</td>\n",
       "    </tr>\n",
       "    <tr>\n",
       "      <th>1</th>\n",
       "      <td>愛知</td>\n",
       "      <td></td>\n",
       "      <td></td>\n",
       "      <td></td>\n",
       "    </tr>\n",
       "    <tr>\n",
       "      <th>2</th>\n",
       "      <td>新潟</td>\n",
       "      <td></td>\n",
       "      <td></td>\n",
       "      <td></td>\n",
       "    </tr>\n",
       "  </tbody>\n",
       "</table>\n",
       "</div>"
      ],
      "text/plain": [
       "    0    1   2   3\n",
       "0  東京  神奈川  埼玉  千葉\n",
       "1  愛知             \n",
       "2  新潟             "
      ]
     },
     "metadata": {},
     "output_type": "display_data"
    },
    {
     "data": {
      "text/markdown": [
       "### Foundation Echelons"
      ],
      "text/plain": [
       "<IPython.core.display.Markdown object>"
      ]
     },
     "metadata": {},
     "output_type": "display_data"
    },
    {
     "data": {
      "text/html": [
       "<div>\n",
       "<style scoped>\n",
       "    .dataframe tbody tr th:only-of-type {\n",
       "        vertical-align: middle;\n",
       "    }\n",
       "\n",
       "    .dataframe tbody tr th {\n",
       "        vertical-align: top;\n",
       "    }\n",
       "\n",
       "    .dataframe thead th {\n",
       "        text-align: right;\n",
       "    }\n",
       "</style>\n",
       "<table border=\"1\" class=\"dataframe\">\n",
       "  <thead>\n",
       "    <tr style=\"text-align: right;\">\n",
       "      <th></th>\n",
       "      <th>0</th>\n",
       "      <th>1</th>\n",
       "      <th>2</th>\n",
       "      <th>3</th>\n",
       "      <th>4</th>\n",
       "      <th>5</th>\n",
       "      <th>6</th>\n",
       "    </tr>\n",
       "  </thead>\n",
       "  <tbody>\n",
       "    <tr>\n",
       "      <th>0</th>\n",
       "      <td>静岡</td>\n",
       "      <td>茨城</td>\n",
       "      <td></td>\n",
       "      <td></td>\n",
       "      <td></td>\n",
       "      <td></td>\n",
       "      <td></td>\n",
       "    </tr>\n",
       "    <tr>\n",
       "      <th>1</th>\n",
       "      <td>長野</td>\n",
       "      <td>岐阜</td>\n",
       "      <td>栃木</td>\n",
       "      <td>群馬</td>\n",
       "      <td>福島</td>\n",
       "      <td>富山</td>\n",
       "      <td>山梨</td>\n",
       "    </tr>\n",
       "  </tbody>\n",
       "</table>\n",
       "</div>"
      ],
      "text/plain": [
       "    0   1   2   3   4   5   6\n",
       "0  静岡  茨城                    \n",
       "1  長野  岐阜  栃木  群馬  福島  富山  山梨"
      ]
     },
     "metadata": {},
     "output_type": "display_data"
    }
   ],
   "source": [
    "display(Markdown('### Peak Echelons'))\n",
    "display(pd.DataFrame(result.peak_echelons).fillna(''))\n",
    "\n",
    "display(Markdown('### Foundation Echelons'))\n",
    "display(pd.DataFrame(result.foundation_echelons).fillna(''))"
   ]
  },
  {
   "cell_type": "code",
   "execution_count": 4,
   "metadata": {},
   "outputs": [
    {
     "name": "stdout",
     "output_type": "stream",
     "text": [
      "E5(長野): [山梨, 富山, 福島, 群馬, 栃木, 岐阜, 長野]\n",
      " (max: 210)\n",
      "\n",
      "├── E4(静岡): [茨城, 静岡]\n",
      "│    (max: 370)\n",
      "│   \n",
      "│   ├── E2(愛知): [愛知]\n",
      "│   │    (max: 748)\n",
      "│   │   \n",
      "│   └── E1(東京): [千葉, 埼玉, 神奈川, 東京]\n",
      "│        (max: 1352)\n",
      "│       \n",
      "└── E3(新潟): [新潟]\n",
      "     (max: 230)\n",
      "    \n"
     ]
    }
   ],
   "source": [
    "print(analyzer.dendrogram(result))"
   ]
  }
 ],
 "metadata": {
  "kernelspec": {
   "display_name": "Python 3",
   "language": "python",
   "name": "python3"
  },
  "language_info": {
   "codemirror_mode": {
    "name": "ipython",
    "version": 3
   },
   "file_extension": ".py",
   "mimetype": "text/x-python",
   "name": "python",
   "nbconvert_exporter": "python",
   "pygments_lexer": "ipython3",
   "version": "3.7.0"
  }
 },
 "nbformat": 4,
 "nbformat_minor": 2
}
